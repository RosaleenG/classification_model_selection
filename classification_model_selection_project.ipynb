{
 "cells": [
  {
   "cell_type": "code",
   "execution_count": 1,
   "metadata": {},
   "outputs": [
    {
     "data": {
      "text/plain": [
       "\"\\nKickstarter is a crowdfunding platform with a community of more than 10 million people comprising of creative, tech enthusiasts who help in bringing new projects to life.\\n\\nUntil now, more than $3 billion dollars have been contributed by the members in fueling creative projects. The projects can be literally anything – a device, a game, an app, a film etc.\\n\\nKickstarter works on all or nothing basis: a campaign is launched with a certain amount they want to raise, if it doesn’t meet its goal, the project owner gets nothing. For example: if a projects’s goal is $5000. Even if it gets funded till $4999, the project won’t be a success.\\n\\nIf you have a project that you would like to post on Kickstarter now, can you predict whether it will be successfully funded or not? Looking into the dataset, what useful information can you extract from it, which variables are informative for your prediction and can you interpret the model?\\n\\nThe goal of this project is to build a classifier to predict whether a project will be successfully funded or not. You can use the algorithm of your choice.\\n\\nNotes on the dataset:\\n\\nThe target, state corresponds to a binary outcome: 0 for failed, 1 for successful.\\nThe variables 'deadline'', 'created_at', 'launched_at' are stored in Unix time format.\\n\""
      ]
     },
     "execution_count": 1,
     "metadata": {},
     "output_type": "execute_result"
    }
   ],
   "source": [
    "\"\"\"\n",
    "Kickstarter is a crowdfunding platform with a community of more than 10 million people comprising of creative, tech enthusiasts who help in bringing new projects to life.\n",
    "\n",
    "Until now, more than $3 billion dollars have been contributed by the members in fueling creative projects. The projects can be literally anything – a device, a game, an app, a film etc.\n",
    "\n",
    "Kickstarter works on all or nothing basis: a campaign is launched with a certain amount they want to raise, if it doesn’t meet its goal, the project owner gets nothing. For example: if a projects’s goal is $5000. Even if it gets funded till $4999, the project won’t be a success.\n",
    "\n",
    "If you have a project that you would like to post on Kickstarter now, can you predict whether it will be successfully funded or not? Looking into the dataset, what useful information can you extract from it, which variables are informative for your prediction and can you interpret the model?\n",
    "\n",
    "The goal of this project is to build a classifier to predict whether a project will be successfully funded or not. You can use the algorithm of your choice.\n",
    "\n",
    "Notes on the dataset:\n",
    "\n",
    "The target, state corresponds to a binary outcome: 0 for failed, 1 for successful.\n",
    "The variables 'deadline'', 'created_at', 'launched_at' are stored in Unix time format.\n",
    "\"\"\""
   ]
  },
  {
   "cell_type": "code",
   "execution_count": 2,
   "metadata": {},
   "outputs": [],
   "source": [
    "# Get the data\n",
    "import pandas as pd\n",
    "from sklearn.linear_model import LogisticRegression"
   ]
  },
  {
   "cell_type": "code",
   "execution_count": 3,
   "metadata": {},
   "outputs": [],
   "source": [
    "df = pd.read_csv(\"data/kickstarter.csv\")"
   ]
  },
  {
   "cell_type": "code",
   "execution_count": 4,
   "metadata": {},
   "outputs": [
    {
     "data": {
      "text/plain": [
       "'\\nGet Started\\nYou will need to implement three functions:\\n\\npreprocess\\nThis takes a dataframe and should return three dataframes: X, y (your training data) as well as X_eval.\\n\\nX_eval is the evaluation data, it needs to be preprocessed so KATE can generate prediction and evaluate the performance of your\\nmodel. In the dataframe provided, there is a column evaluation_set that tells you whether this row is for evaluation or not.\\n\\nTo get all the rows that need to be used for evaluation only, you can use:\\n\\ndf.loc[df.evaluation_set]\\ntrain\\nThis takes the X and y you have processed previously and trains your model. It should return your trained model.\\n\\npredict\\nThis takes the model you have trained as well as a test set (on KATE this will be X_eval that you processed above, but you can\\ntest this function locally with your own test set).\\n\\nThis should return y_pred, predictions on the test set.\\n\\nThe recommended way of working on this project is to:\\n\\n1) Download the data 2) Open it in a notebook and start prototyping 3) Break down your code into functions \\npreprocess/train/predict and test it locally 4) When you\\'re happy with your functions, copy/paste them in the \\nWebIDE (in the file model.py)\\n\\nNOTE: Since with this project your model will be trained directly on KATE, it is limited to models that can be trained under \\n1min. You will receive a TimeoutError if your model takes too long.\\n\\nYou can test that your functions work in a notebook with the following example:\\n\\ndf = pd.read_csv(\"data.zip\")\\nX, y, X_eval = preprocess(df)\\nmodel = train(X, y)\\ny_pred = predict(model, X_eval)\\nprint(y_pred)\\nBaseline Model\\nHere is an example of a submission, building a simple logistic regression with only two features: goal_usd (adjusted goal) \\n    and usa (whether the campaign happened in the US)\\n\\n'"
      ]
     },
     "execution_count": 4,
     "metadata": {},
     "output_type": "execute_result"
    }
   ],
   "source": [
    "\"\"\"\n",
    "Get Started\n",
    "You will need to implement three functions:\n",
    "\n",
    "preprocess\n",
    "This takes a dataframe and should return three dataframes: X, y (your training data) as well as X_eval.\n",
    "\n",
    "X_eval is the evaluation data, it needs to be preprocessed so KATE can generate prediction and evaluate the performance of your\n",
    "model. In the dataframe provided, there is a column evaluation_set that tells you whether this row is for evaluation or not.\n",
    "\n",
    "To get all the rows that need to be used for evaluation only, you can use:\n",
    "\n",
    "df.loc[df.evaluation_set]\n",
    "train\n",
    "This takes the X and y you have processed previously and trains your model. It should return your trained model.\n",
    "\n",
    "predict\n",
    "This takes the model you have trained as well as a test set (on KATE this will be X_eval that you processed above, but you can\n",
    "test this function locally with your own test set).\n",
    "\n",
    "This should return y_pred, predictions on the test set.\n",
    "\n",
    "The recommended way of working on this project is to:\n",
    "\n",
    "1) Download the data 2) Open it in a notebook and start prototyping 3) Break down your code into functions \n",
    "preprocess/train/predict and test it locally 4) When you're happy with your functions, copy/paste them in the \n",
    "WebIDE (in the file model.py)\n",
    "\n",
    "NOTE: Since with this project your model will be trained directly on KATE, it is limited to models that can be trained under \n",
    "1min. You will receive a TimeoutError if your model takes too long.\n",
    "\n",
    "You can test that your functions work in a notebook with the following example:\n",
    "\n",
    "df = pd.read_csv(\"data.zip\")\n",
    "X, y, X_eval = preprocess(df)\n",
    "model = train(X, y)\n",
    "y_pred = predict(model, X_eval)\n",
    "print(y_pred)\n",
    "Baseline Model\n",
    "Here is an example of a submission, building a simple logistic regression with only two features: goal_usd (adjusted goal) \n",
    "    and usa (whether the campaign happened in the US)\n",
    "\n",
    "\"\"\"\n"
   ]
  },
  {
   "cell_type": "code",
   "execution_count": 5,
   "metadata": {},
   "outputs": [],
   "source": [
    "def preprocess(df):\n",
    "\n",
    "    df[\"usa\"] = df[\"country\"] == \"US\"\n",
    "    df[\"goal_usd\"] = df[\"goal\"] * df[\"static_usd_rate\"]\n",
    "\n",
    "    # save labels to know what rows are in evaluation set\n",
    "    # evaluation_set is a boolean so we can use it as mask\n",
    "    msk_eval = df.evaluation_set\n",
    "\n",
    "    df = df[[\"goal_usd\", \"usa\", \"state\"]]\n",
    "\n",
    "    X = df[~msk_eval].drop([\"state\"], axis=1)\n",
    "    y = df[~msk_eval][\"state\"]\n",
    "    X_eval = df[msk_eval].drop([\"state\"], axis=1)\n",
    "\n",
    "    return X, y, X_eval\n"
   ]
  },
  {
   "cell_type": "code",
   "execution_count": 6,
   "metadata": {},
   "outputs": [],
   "source": [
    "def train(X, y):\n",
    "    model = LogisticRegression()\n",
    "    model.fit(X, y)\n",
    "    return model\n"
   ]
  },
  {
   "cell_type": "code",
   "execution_count": 7,
   "metadata": {},
   "outputs": [],
   "source": [
    "def predict(model, X_test):\n",
    "    y_pred = model.predict(X_test)\n",
    "    return y_pred"
   ]
  }
 ],
 "metadata": {
  "kernelspec": {
   "display_name": "Python 3",
   "language": "python",
   "name": "python3"
  },
  "language_info": {
   "codemirror_mode": {
    "name": "ipython",
    "version": 3
   },
   "file_extension": ".py",
   "mimetype": "text/x-python",
   "name": "python",
   "nbconvert_exporter": "python",
   "pygments_lexer": "ipython3",
   "version": "3.7.6"
  }
 },
 "nbformat": 4,
 "nbformat_minor": 4
}
